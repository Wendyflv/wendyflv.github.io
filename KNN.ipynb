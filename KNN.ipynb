{
 "cells": [
  {
   "cell_type": "code",
   "execution_count": null,
   "id": "91a680fe",
   "metadata": {},
   "outputs": [],
   "source": [
    "import pandas as pd\n",
    "df = pd.read_csv('./iris.csv')"
   ]
  },
  {
   "cell_type": "code",
   "execution_count": null,
   "id": "51f570bf",
   "metadata": {},
   "outputs": [],
   "source": [
    "def cal_simlarity(df,test):\n",
    "    #df 训练集\n",
    "    #test 测试集\n",
    "    #取行数p\n",
    "    distances= pd.DataFrame()\n",
    "    p = df.shape[0]\n",
    "    for row in test.index:\n",
    "        #distance = np.sqrt(sum((df - np.tile(test.loc[row],(p,1)))**2,axis=1))\n",
    "        distance = np.sqrt(((df - np.tile(test.loc[row],(p,1)))**2).sum(axis=1))\n",
    "        column_name = f\"Distance_{row}\"\n",
    "        distances[column_name] = distance\n",
    "   \n",
    "    return distance,distances\n",
    "    "
   ]
  },
  {
   "cell_type": "code",
   "execution_count": null,
   "id": "98453918",
   "metadata": {},
   "outputs": [],
   "source": [
    "from sklearn.model_selection import train_test_split\n",
    "def split_df(df,test_size,random_state):\n",
    "    y = df['target']\n",
    "    x = df.drop(['target'],axis=1)\n",
    "    \n",
    "    #划分数据集\n",
    "    x_train, x_test, y_train, y_test = train_test_split(x,y, test_size=test_size, random_state=random_state)\n",
    "    return x_train, x_test, y_train, y_test\n",
    "    \n",
    "    "
   ]
  },
  {
   "cell_type": "code",
   "execution_count": null,
   "id": "6e4c8f52",
   "metadata": {},
   "outputs": [],
   "source": [
    "x_train, x_test, y_train, y_test = split_df(df,0.1,42)"
   ]
  },
  {
   "cell_type": "code",
   "execution_count": null,
   "id": "2322e740",
   "metadata": {},
   "outputs": [],
   "source": [
    "from collections import Counter\n",
    "def knnselect(distance,k,y_train):\n",
    "    #每一列做从小到大排序,记得保留索引\n",
    "    sort_distance = distance.sort_values().reset_index(drop=False)\n",
    "    #取前k行\n",
    "    k_sort = sort_distance.head(k)\n",
    "    y_sorts=[]\n",
    "    for i in range(k):\n",
    "        y_sort = y_train.loc[k_sort.iloc[i,0]]\n",
    "        y_sorts.append(y_sort)\n",
    "    count = Counter(y_sorts)\n",
    "    max_freq = max(count.values())\n",
    "    most_common = [num for num, freq in count.items() if freq == max_freq]\n",
    "    return most_common"
   ]
  },
  {
   "cell_type": "code",
   "execution_count": null,
   "id": "d3f9fdf9",
   "metadata": {},
   "outputs": [],
   "source": [
    "distance,distances = cal_simlarity(x_train,x_test)"
   ]
  },
  {
   "cell_type": "code",
   "execution_count": null,
   "id": "bf7683d3",
   "metadata": {},
   "outputs": [],
   "source": [
    "result = distances.apply(lambda col: knnselect(col,5,y_train),axis=0 )"
   ]
  },
  {
   "cell_type": "code",
   "execution_count": null,
   "id": "980cfc21",
   "metadata": {},
   "outputs": [],
   "source": [
    "def cal_correct(re1,y_test):\n",
    "    re1 = result.stack().reset_index(drop=True).values\n",
    "    y_test = y_test.values\n",
    "    num = len(y_test)\n",
    "    correct = sum(re1==y_test)\n",
    "    return correct/num\n",
    "    \n",
    "    "
   ]
  },
  {
   "cell_type": "code",
   "execution_count": null,
   "id": "48ca4eed",
   "metadata": {},
   "outputs": [],
   "source": [
    "cal_correct(re1,y_test)"
   ]
  }
 ],
 "metadata": {
  "kernelspec": {
   "display_name": "Python 3 (ipykernel)",
   "language": "python",
   "name": "python3"
  },
  "language_info": {
   "codemirror_mode": {
    "name": "ipython",
    "version": 3
   },
   "file_extension": ".py",
   "mimetype": "text/x-python",
   "name": "python",
   "nbconvert_exporter": "python",
   "pygments_lexer": "ipython3",
   "version": "3.10.9"
  }
 },
 "nbformat": 4,
 "nbformat_minor": 5
}
